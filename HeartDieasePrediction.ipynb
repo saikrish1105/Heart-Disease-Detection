{
  "nbformat": 4,
  "nbformat_minor": 0,
  "metadata": {
    "colab": {
      "provenance": [],
      "gpuType": "T4",
      "authorship_tag": "ABX9TyOlIavbkmE0U06jl10QxwI8",
      "include_colab_link": true
    },
    "kernelspec": {
      "name": "python3",
      "display_name": "Python 3"
    },
    "language_info": {
      "name": "python"
    },
    "accelerator": "GPU"
  },
  "cells": [
    {
      "cell_type": "markdown",
      "metadata": {
        "id": "view-in-github",
        "colab_type": "text"
      },
      "source": [
        "<a href=\"https://colab.research.google.com/github/saikrish1105/Heart-Disease-Detection/blob/main/HeartDieasePrediction.ipynb\" target=\"_parent\"><img src=\"https://colab.research.google.com/assets/colab-badge.svg\" alt=\"Open In Colab\"/></a>"
      ]
    },
    {
      "cell_type": "markdown",
      "source": [
        "# **IMPORTS**"
      ],
      "metadata": {
        "id": "2Q89MJpJL71c"
      }
    },
    {
      "cell_type": "code",
      "execution_count": 149,
      "metadata": {
        "id": "WP0iOkHdmHhf"
      },
      "outputs": [],
      "source": [
        "import numpy as np\n",
        "import pandas as pd\n",
        "from sklearn.preprocessing import StandardScaler\n",
        "from imblearn.over_sampling import RandomOverSampler"
      ]
    },
    {
      "cell_type": "markdown",
      "source": [
        "# **Data Pre-Processing**"
      ],
      "metadata": {
        "id": "4hR43Es2xbys"
      }
    },
    {
      "cell_type": "code",
      "source": [
        "df = pd.read_csv(\"heart_disease_data.csv\")\n",
        "#1=> Yes Heart Disease & 0 => No Heart Disease\n",
        "#Since the target was very straightforward with 1's and 0's split, I used sample to shuffle the values\n",
        "df = df.sample(frac=1)\n",
        "df.head()"
      ],
      "metadata": {
        "colab": {
          "base_uri": "https://localhost:8080/",
          "height": 206
        },
        "id": "FgHDe4YImyHW",
        "outputId": "b5dc3bf0-6611-453a-a7e3-17bac1016740"
      },
      "execution_count": 150,
      "outputs": [
        {
          "output_type": "execute_result",
          "data": {
            "text/plain": [
              "     age  sex  cp  trestbps  chol  fbs  restecg  thalach  exang  oldpeak  \\\n",
              "289   55    0   0       128   205    0        2      130      1      2.0   \n",
              "179   57    1   0       150   276    0        0      112      1      0.6   \n",
              "95    53    1   0       142   226    0        0      111      1      0.0   \n",
              "110   64    0   0       180   325    0        1      154      1      0.0   \n",
              "269   56    1   0       130   283    1        0      103      1      1.6   \n",
              "\n",
              "     slope  ca  thal  target  \n",
              "289      1   1     3       0  \n",
              "179      1   1     1       0  \n",
              "95       2   0     3       1  \n",
              "110      2   0     2       1  \n",
              "269      0   0     3       0  "
            ],
            "text/html": [
              "\n",
              "  <div id=\"df-bb2c017d-4145-4556-9544-02131ac49937\" class=\"colab-df-container\">\n",
              "    <div>\n",
              "<style scoped>\n",
              "    .dataframe tbody tr th:only-of-type {\n",
              "        vertical-align: middle;\n",
              "    }\n",
              "\n",
              "    .dataframe tbody tr th {\n",
              "        vertical-align: top;\n",
              "    }\n",
              "\n",
              "    .dataframe thead th {\n",
              "        text-align: right;\n",
              "    }\n",
              "</style>\n",
              "<table border=\"1\" class=\"dataframe\">\n",
              "  <thead>\n",
              "    <tr style=\"text-align: right;\">\n",
              "      <th></th>\n",
              "      <th>age</th>\n",
              "      <th>sex</th>\n",
              "      <th>cp</th>\n",
              "      <th>trestbps</th>\n",
              "      <th>chol</th>\n",
              "      <th>fbs</th>\n",
              "      <th>restecg</th>\n",
              "      <th>thalach</th>\n",
              "      <th>exang</th>\n",
              "      <th>oldpeak</th>\n",
              "      <th>slope</th>\n",
              "      <th>ca</th>\n",
              "      <th>thal</th>\n",
              "      <th>target</th>\n",
              "    </tr>\n",
              "  </thead>\n",
              "  <tbody>\n",
              "    <tr>\n",
              "      <th>289</th>\n",
              "      <td>55</td>\n",
              "      <td>0</td>\n",
              "      <td>0</td>\n",
              "      <td>128</td>\n",
              "      <td>205</td>\n",
              "      <td>0</td>\n",
              "      <td>2</td>\n",
              "      <td>130</td>\n",
              "      <td>1</td>\n",
              "      <td>2.0</td>\n",
              "      <td>1</td>\n",
              "      <td>1</td>\n",
              "      <td>3</td>\n",
              "      <td>0</td>\n",
              "    </tr>\n",
              "    <tr>\n",
              "      <th>179</th>\n",
              "      <td>57</td>\n",
              "      <td>1</td>\n",
              "      <td>0</td>\n",
              "      <td>150</td>\n",
              "      <td>276</td>\n",
              "      <td>0</td>\n",
              "      <td>0</td>\n",
              "      <td>112</td>\n",
              "      <td>1</td>\n",
              "      <td>0.6</td>\n",
              "      <td>1</td>\n",
              "      <td>1</td>\n",
              "      <td>1</td>\n",
              "      <td>0</td>\n",
              "    </tr>\n",
              "    <tr>\n",
              "      <th>95</th>\n",
              "      <td>53</td>\n",
              "      <td>1</td>\n",
              "      <td>0</td>\n",
              "      <td>142</td>\n",
              "      <td>226</td>\n",
              "      <td>0</td>\n",
              "      <td>0</td>\n",
              "      <td>111</td>\n",
              "      <td>1</td>\n",
              "      <td>0.0</td>\n",
              "      <td>2</td>\n",
              "      <td>0</td>\n",
              "      <td>3</td>\n",
              "      <td>1</td>\n",
              "    </tr>\n",
              "    <tr>\n",
              "      <th>110</th>\n",
              "      <td>64</td>\n",
              "      <td>0</td>\n",
              "      <td>0</td>\n",
              "      <td>180</td>\n",
              "      <td>325</td>\n",
              "      <td>0</td>\n",
              "      <td>1</td>\n",
              "      <td>154</td>\n",
              "      <td>1</td>\n",
              "      <td>0.0</td>\n",
              "      <td>2</td>\n",
              "      <td>0</td>\n",
              "      <td>2</td>\n",
              "      <td>1</td>\n",
              "    </tr>\n",
              "    <tr>\n",
              "      <th>269</th>\n",
              "      <td>56</td>\n",
              "      <td>1</td>\n",
              "      <td>0</td>\n",
              "      <td>130</td>\n",
              "      <td>283</td>\n",
              "      <td>1</td>\n",
              "      <td>0</td>\n",
              "      <td>103</td>\n",
              "      <td>1</td>\n",
              "      <td>1.6</td>\n",
              "      <td>0</td>\n",
              "      <td>0</td>\n",
              "      <td>3</td>\n",
              "      <td>0</td>\n",
              "    </tr>\n",
              "  </tbody>\n",
              "</table>\n",
              "</div>\n",
              "    <div class=\"colab-df-buttons\">\n",
              "\n",
              "  <div class=\"colab-df-container\">\n",
              "    <button class=\"colab-df-convert\" onclick=\"convertToInteractive('df-bb2c017d-4145-4556-9544-02131ac49937')\"\n",
              "            title=\"Convert this dataframe to an interactive table.\"\n",
              "            style=\"display:none;\">\n",
              "\n",
              "  <svg xmlns=\"http://www.w3.org/2000/svg\" height=\"24px\" viewBox=\"0 -960 960 960\">\n",
              "    <path d=\"M120-120v-720h720v720H120Zm60-500h600v-160H180v160Zm220 220h160v-160H400v160Zm0 220h160v-160H400v160ZM180-400h160v-160H180v160Zm440 0h160v-160H620v160ZM180-180h160v-160H180v160Zm440 0h160v-160H620v160Z\"/>\n",
              "  </svg>\n",
              "    </button>\n",
              "\n",
              "  <style>\n",
              "    .colab-df-container {\n",
              "      display:flex;\n",
              "      gap: 12px;\n",
              "    }\n",
              "\n",
              "    .colab-df-convert {\n",
              "      background-color: #E8F0FE;\n",
              "      border: none;\n",
              "      border-radius: 50%;\n",
              "      cursor: pointer;\n",
              "      display: none;\n",
              "      fill: #1967D2;\n",
              "      height: 32px;\n",
              "      padding: 0 0 0 0;\n",
              "      width: 32px;\n",
              "    }\n",
              "\n",
              "    .colab-df-convert:hover {\n",
              "      background-color: #E2EBFA;\n",
              "      box-shadow: 0px 1px 2px rgba(60, 64, 67, 0.3), 0px 1px 3px 1px rgba(60, 64, 67, 0.15);\n",
              "      fill: #174EA6;\n",
              "    }\n",
              "\n",
              "    .colab-df-buttons div {\n",
              "      margin-bottom: 4px;\n",
              "    }\n",
              "\n",
              "    [theme=dark] .colab-df-convert {\n",
              "      background-color: #3B4455;\n",
              "      fill: #D2E3FC;\n",
              "    }\n",
              "\n",
              "    [theme=dark] .colab-df-convert:hover {\n",
              "      background-color: #434B5C;\n",
              "      box-shadow: 0px 1px 3px 1px rgba(0, 0, 0, 0.15);\n",
              "      filter: drop-shadow(0px 1px 2px rgba(0, 0, 0, 0.3));\n",
              "      fill: #FFFFFF;\n",
              "    }\n",
              "  </style>\n",
              "\n",
              "    <script>\n",
              "      const buttonEl =\n",
              "        document.querySelector('#df-bb2c017d-4145-4556-9544-02131ac49937 button.colab-df-convert');\n",
              "      buttonEl.style.display =\n",
              "        google.colab.kernel.accessAllowed ? 'block' : 'none';\n",
              "\n",
              "      async function convertToInteractive(key) {\n",
              "        const element = document.querySelector('#df-bb2c017d-4145-4556-9544-02131ac49937');\n",
              "        const dataTable =\n",
              "          await google.colab.kernel.invokeFunction('convertToInteractive',\n",
              "                                                    [key], {});\n",
              "        if (!dataTable) return;\n",
              "\n",
              "        const docLinkHtml = 'Like what you see? Visit the ' +\n",
              "          '<a target=\"_blank\" href=https://colab.research.google.com/notebooks/data_table.ipynb>data table notebook</a>'\n",
              "          + ' to learn more about interactive tables.';\n",
              "        element.innerHTML = '';\n",
              "        dataTable['output_type'] = 'display_data';\n",
              "        await google.colab.output.renderOutput(dataTable, element);\n",
              "        const docLink = document.createElement('div');\n",
              "        docLink.innerHTML = docLinkHtml;\n",
              "        element.appendChild(docLink);\n",
              "      }\n",
              "    </script>\n",
              "  </div>\n",
              "\n",
              "\n",
              "<div id=\"df-a2bff69a-3785-4d75-abff-0649813cc7b3\">\n",
              "  <button class=\"colab-df-quickchart\" onclick=\"quickchart('df-a2bff69a-3785-4d75-abff-0649813cc7b3')\"\n",
              "            title=\"Suggest charts\"\n",
              "            style=\"display:none;\">\n",
              "\n",
              "<svg xmlns=\"http://www.w3.org/2000/svg\" height=\"24px\"viewBox=\"0 0 24 24\"\n",
              "     width=\"24px\">\n",
              "    <g>\n",
              "        <path d=\"M19 3H5c-1.1 0-2 .9-2 2v14c0 1.1.9 2 2 2h14c1.1 0 2-.9 2-2V5c0-1.1-.9-2-2-2zM9 17H7v-7h2v7zm4 0h-2V7h2v10zm4 0h-2v-4h2v4z\"/>\n",
              "    </g>\n",
              "</svg>\n",
              "  </button>\n",
              "\n",
              "<style>\n",
              "  .colab-df-quickchart {\n",
              "      --bg-color: #E8F0FE;\n",
              "      --fill-color: #1967D2;\n",
              "      --hover-bg-color: #E2EBFA;\n",
              "      --hover-fill-color: #174EA6;\n",
              "      --disabled-fill-color: #AAA;\n",
              "      --disabled-bg-color: #DDD;\n",
              "  }\n",
              "\n",
              "  [theme=dark] .colab-df-quickchart {\n",
              "      --bg-color: #3B4455;\n",
              "      --fill-color: #D2E3FC;\n",
              "      --hover-bg-color: #434B5C;\n",
              "      --hover-fill-color: #FFFFFF;\n",
              "      --disabled-bg-color: #3B4455;\n",
              "      --disabled-fill-color: #666;\n",
              "  }\n",
              "\n",
              "  .colab-df-quickchart {\n",
              "    background-color: var(--bg-color);\n",
              "    border: none;\n",
              "    border-radius: 50%;\n",
              "    cursor: pointer;\n",
              "    display: none;\n",
              "    fill: var(--fill-color);\n",
              "    height: 32px;\n",
              "    padding: 0;\n",
              "    width: 32px;\n",
              "  }\n",
              "\n",
              "  .colab-df-quickchart:hover {\n",
              "    background-color: var(--hover-bg-color);\n",
              "    box-shadow: 0 1px 2px rgba(60, 64, 67, 0.3), 0 1px 3px 1px rgba(60, 64, 67, 0.15);\n",
              "    fill: var(--button-hover-fill-color);\n",
              "  }\n",
              "\n",
              "  .colab-df-quickchart-complete:disabled,\n",
              "  .colab-df-quickchart-complete:disabled:hover {\n",
              "    background-color: var(--disabled-bg-color);\n",
              "    fill: var(--disabled-fill-color);\n",
              "    box-shadow: none;\n",
              "  }\n",
              "\n",
              "  .colab-df-spinner {\n",
              "    border: 2px solid var(--fill-color);\n",
              "    border-color: transparent;\n",
              "    border-bottom-color: var(--fill-color);\n",
              "    animation:\n",
              "      spin 1s steps(1) infinite;\n",
              "  }\n",
              "\n",
              "  @keyframes spin {\n",
              "    0% {\n",
              "      border-color: transparent;\n",
              "      border-bottom-color: var(--fill-color);\n",
              "      border-left-color: var(--fill-color);\n",
              "    }\n",
              "    20% {\n",
              "      border-color: transparent;\n",
              "      border-left-color: var(--fill-color);\n",
              "      border-top-color: var(--fill-color);\n",
              "    }\n",
              "    30% {\n",
              "      border-color: transparent;\n",
              "      border-left-color: var(--fill-color);\n",
              "      border-top-color: var(--fill-color);\n",
              "      border-right-color: var(--fill-color);\n",
              "    }\n",
              "    40% {\n",
              "      border-color: transparent;\n",
              "      border-right-color: var(--fill-color);\n",
              "      border-top-color: var(--fill-color);\n",
              "    }\n",
              "    60% {\n",
              "      border-color: transparent;\n",
              "      border-right-color: var(--fill-color);\n",
              "    }\n",
              "    80% {\n",
              "      border-color: transparent;\n",
              "      border-right-color: var(--fill-color);\n",
              "      border-bottom-color: var(--fill-color);\n",
              "    }\n",
              "    90% {\n",
              "      border-color: transparent;\n",
              "      border-bottom-color: var(--fill-color);\n",
              "    }\n",
              "  }\n",
              "</style>\n",
              "\n",
              "  <script>\n",
              "    async function quickchart(key) {\n",
              "      const quickchartButtonEl =\n",
              "        document.querySelector('#' + key + ' button');\n",
              "      quickchartButtonEl.disabled = true;  // To prevent multiple clicks.\n",
              "      quickchartButtonEl.classList.add('colab-df-spinner');\n",
              "      try {\n",
              "        const charts = await google.colab.kernel.invokeFunction(\n",
              "            'suggestCharts', [key], {});\n",
              "      } catch (error) {\n",
              "        console.error('Error during call to suggestCharts:', error);\n",
              "      }\n",
              "      quickchartButtonEl.classList.remove('colab-df-spinner');\n",
              "      quickchartButtonEl.classList.add('colab-df-quickchart-complete');\n",
              "    }\n",
              "    (() => {\n",
              "      let quickchartButtonEl =\n",
              "        document.querySelector('#df-a2bff69a-3785-4d75-abff-0649813cc7b3 button');\n",
              "      quickchartButtonEl.style.display =\n",
              "        google.colab.kernel.accessAllowed ? 'block' : 'none';\n",
              "    })();\n",
              "  </script>\n",
              "</div>\n",
              "    </div>\n",
              "  </div>\n"
            ],
            "application/vnd.google.colaboratory.intrinsic+json": {
              "type": "dataframe",
              "variable_name": "df",
              "summary": "{\n  \"name\": \"df\",\n  \"rows\": 303,\n  \"fields\": [\n    {\n      \"column\": \"age\",\n      \"properties\": {\n        \"dtype\": \"number\",\n        \"std\": 9,\n        \"min\": 29,\n        \"max\": 77,\n        \"num_unique_values\": 41,\n        \"samples\": [\n          52,\n          59,\n          51\n        ],\n        \"semantic_type\": \"\",\n        \"description\": \"\"\n      }\n    },\n    {\n      \"column\": \"sex\",\n      \"properties\": {\n        \"dtype\": \"number\",\n        \"std\": 0,\n        \"min\": 0,\n        \"max\": 1,\n        \"num_unique_values\": 2,\n        \"samples\": [\n          1,\n          0\n        ],\n        \"semantic_type\": \"\",\n        \"description\": \"\"\n      }\n    },\n    {\n      \"column\": \"cp\",\n      \"properties\": {\n        \"dtype\": \"number\",\n        \"std\": 1,\n        \"min\": 0,\n        \"max\": 3,\n        \"num_unique_values\": 4,\n        \"samples\": [\n          2,\n          3\n        ],\n        \"semantic_type\": \"\",\n        \"description\": \"\"\n      }\n    },\n    {\n      \"column\": \"trestbps\",\n      \"properties\": {\n        \"dtype\": \"number\",\n        \"std\": 17,\n        \"min\": 94,\n        \"max\": 200,\n        \"num_unique_values\": 49,\n        \"samples\": [\n          164,\n          154\n        ],\n        \"semantic_type\": \"\",\n        \"description\": \"\"\n      }\n    },\n    {\n      \"column\": \"chol\",\n      \"properties\": {\n        \"dtype\": \"number\",\n        \"std\": 51,\n        \"min\": 126,\n        \"max\": 564,\n        \"num_unique_values\": 152,\n        \"samples\": [\n          266,\n          200\n        ],\n        \"semantic_type\": \"\",\n        \"description\": \"\"\n      }\n    },\n    {\n      \"column\": \"fbs\",\n      \"properties\": {\n        \"dtype\": \"number\",\n        \"std\": 0,\n        \"min\": 0,\n        \"max\": 1,\n        \"num_unique_values\": 2,\n        \"samples\": [\n          1,\n          0\n        ],\n        \"semantic_type\": \"\",\n        \"description\": \"\"\n      }\n    },\n    {\n      \"column\": \"restecg\",\n      \"properties\": {\n        \"dtype\": \"number\",\n        \"std\": 0,\n        \"min\": 0,\n        \"max\": 2,\n        \"num_unique_values\": 3,\n        \"samples\": [\n          2,\n          0\n        ],\n        \"semantic_type\": \"\",\n        \"description\": \"\"\n      }\n    },\n    {\n      \"column\": \"thalach\",\n      \"properties\": {\n        \"dtype\": \"number\",\n        \"std\": 22,\n        \"min\": 71,\n        \"max\": 202,\n        \"num_unique_values\": 91,\n        \"samples\": [\n          174,\n          95\n        ],\n        \"semantic_type\": \"\",\n        \"description\": \"\"\n      }\n    },\n    {\n      \"column\": \"exang\",\n      \"properties\": {\n        \"dtype\": \"number\",\n        \"std\": 0,\n        \"min\": 0,\n        \"max\": 1,\n        \"num_unique_values\": 2,\n        \"samples\": [\n          0,\n          1\n        ],\n        \"semantic_type\": \"\",\n        \"description\": \"\"\n      }\n    },\n    {\n      \"column\": \"oldpeak\",\n      \"properties\": {\n        \"dtype\": \"number\",\n        \"std\": 1.1610750220686346,\n        \"min\": 0.0,\n        \"max\": 6.2,\n        \"num_unique_values\": 40,\n        \"samples\": [\n          3.5,\n          2.8\n        ],\n        \"semantic_type\": \"\",\n        \"description\": \"\"\n      }\n    },\n    {\n      \"column\": \"slope\",\n      \"properties\": {\n        \"dtype\": \"number\",\n        \"std\": 0,\n        \"min\": 0,\n        \"max\": 2,\n        \"num_unique_values\": 3,\n        \"samples\": [\n          1,\n          2\n        ],\n        \"semantic_type\": \"\",\n        \"description\": \"\"\n      }\n    },\n    {\n      \"column\": \"ca\",\n      \"properties\": {\n        \"dtype\": \"number\",\n        \"std\": 1,\n        \"min\": 0,\n        \"max\": 4,\n        \"num_unique_values\": 5,\n        \"samples\": [\n          0,\n          4\n        ],\n        \"semantic_type\": \"\",\n        \"description\": \"\"\n      }\n    },\n    {\n      \"column\": \"thal\",\n      \"properties\": {\n        \"dtype\": \"number\",\n        \"std\": 0,\n        \"min\": 0,\n        \"max\": 3,\n        \"num_unique_values\": 4,\n        \"samples\": [\n          1,\n          0\n        ],\n        \"semantic_type\": \"\",\n        \"description\": \"\"\n      }\n    },\n    {\n      \"column\": \"target\",\n      \"properties\": {\n        \"dtype\": \"number\",\n        \"std\": 0,\n        \"min\": 0,\n        \"max\": 1,\n        \"num_unique_values\": 2,\n        \"samples\": [\n          1,\n          0\n        ],\n        \"semantic_type\": \"\",\n        \"description\": \"\"\n      }\n    }\n  ]\n}"
            }
          },
          "metadata": {},
          "execution_count": 150
        }
      ]
    },
    {
      "cell_type": "code",
      "source": [
        "df.shape"
      ],
      "metadata": {
        "colab": {
          "base_uri": "https://localhost:8080/"
        },
        "id": "tmu-X_AF_ypR",
        "outputId": "cbd7dd19-31c1-4228-c14b-cea21263a8e9"
      },
      "execution_count": 151,
      "outputs": [
        {
          "output_type": "execute_result",
          "data": {
            "text/plain": [
              "(303, 14)"
            ]
          },
          "metadata": {},
          "execution_count": 151
        }
      ]
    },
    {
      "cell_type": "code",
      "source": [
        "# Split the dataset into train, test and validation\n",
        "train, valid, test = np.split(df,[int(0.65*len(df)),int(0.85*len(df))])  # 65% = Train Set - 20% = Validation Set - 15% = Test Set"
      ],
      "metadata": {
        "id": "e9xv8oMEnnCT"
      },
      "execution_count": 152,
      "outputs": []
    },
    {
      "cell_type": "code",
      "source": [
        "def scale_df(dataframe):\n",
        "  X = dataframe[dataframe.columns[:-1]].values\n",
        "  Y = dataframe[dataframe.columns[-1]].values\n",
        "\n",
        "  scaler = StandardScaler()\n",
        "\n",
        "  X_scaled = scaler.fit_transform(X)\n",
        "\n",
        "  ros = RandomOverSampler()\n",
        "  X_scaled_sampled, Y_sampled = ros.fit_resample(X_scaled,Y)\n",
        "\n",
        "  data = np.hstack((X_scaled,np.reshape(Y,(-1,1))))\n",
        "\n",
        "  return data, X_scaled_sampled, Y_sampled"
      ],
      "metadata": {
        "id": "BC5ksViKqmbk"
      },
      "execution_count": 153,
      "outputs": []
    },
    {
      "cell_type": "code",
      "source": [
        "data, X,Y = scale_df(df)\n",
        "train, X_train, Y_train = scale_df(train)\n",
        "test, X_test, Y_test = scale_df(test)\n",
        "valid, X_valid, Y_valid = scale_df(valid)"
      ],
      "metadata": {
        "id": "wtCAQicDtO5_"
      },
      "execution_count": 154,
      "outputs": []
    },
    {
      "cell_type": "markdown",
      "source": [
        "# **Importing A Suitable Model**"
      ],
      "metadata": {
        "id": "COtuvlOax2y-"
      }
    },
    {
      "cell_type": "code",
      "source": [
        "# Accuracy Finder\n",
        "def compute_accuracy(Y_true, Y_pred):\n",
        "    correctly_predicted = 0\n",
        "    # iterating over every label and checking it with the true sample\n",
        "    for true_label, predicted in zip(Y_true, Y_pred):\n",
        "        if true_label == predicted:\n",
        "            correctly_predicted += 1\n",
        "    # computing the accuracy score\n",
        "    accuracy_score = correctly_predicted / len(Y_true)\n",
        "    return accuracy_score\n",
        "\n",
        "#Accuracy Dictionary of All Models\n",
        "accuracy = {}"
      ],
      "metadata": {
        "id": "QPKFkMthIlUo"
      },
      "execution_count": 155,
      "outputs": []
    },
    {
      "cell_type": "markdown",
      "source": [
        "##K Nearest Neighbour"
      ],
      "metadata": {
        "id": "vXys1-zuHJrQ"
      }
    },
    {
      "cell_type": "code",
      "source": [
        "from sklearn.neighbors import KNeighborsClassifier\n",
        "knn = KNeighborsClassifier(n_neighbors=10)\n",
        "knn.fit(X_train,Y_train)\n",
        "Y_pred_knn= knn.predict(X_test)\n",
        "\n",
        "knn_accuracy = (round(compute_accuracy(Y_test, Y_pred_knn),4)*100)\n",
        "accuracy['KNN'] = knn_accuracy"
      ],
      "metadata": {
        "id": "EBw8jfJ8v8sX"
      },
      "execution_count": 156,
      "outputs": []
    },
    {
      "cell_type": "markdown",
      "source": [
        "## Logistic Regression"
      ],
      "metadata": {
        "id": "OKrCKZguH6kX"
      }
    },
    {
      "cell_type": "code",
      "source": [
        "from sklearn.linear_model import LogisticRegression\n",
        "lr = LogisticRegression()\n",
        "lr.fit(X_train,Y_train)\n",
        "Y_pred_lr = lr.predict(X_test)\n",
        "lr_accuracy = (round(compute_accuracy(Y_test, Y_pred_lr),4)*100)\n",
        "\n",
        "accuracy['Logistic Regression'] = lr_accuracy"
      ],
      "metadata": {
        "id": "FG8wuugWH5mx"
      },
      "execution_count": 157,
      "outputs": []
    },
    {
      "cell_type": "markdown",
      "source": [
        "## Decision Tree Classifier"
      ],
      "metadata": {
        "id": "MBjxxLxBVKQQ"
      }
    },
    {
      "cell_type": "code",
      "source": [
        "from sklearn.tree import DecisionTreeClassifier\n",
        "dtc = DecisionTreeClassifier(criterion=\"entropy\",max_depth=2)\n",
        "dtc.fit(X_train,Y_train)\n",
        "Y_pred_dtc = dtc.predict(X_test)\n",
        "dtc_accuracy = (round(compute_accuracy(Y_test, Y_pred_dtc),4)*100)\n",
        "\n",
        "accuracy['Decision Tree Classifier'] = dtc_accuracy"
      ],
      "metadata": {
        "id": "RsQ_vouMUsf0"
      },
      "execution_count": 158,
      "outputs": []
    },
    {
      "cell_type": "markdown",
      "source": [
        "## Random Forest Classifier"
      ],
      "metadata": {
        "id": "KKhXahNBVNtp"
      }
    },
    {
      "cell_type": "code",
      "source": [
        "from sklearn.ensemble import RandomForestClassifier\n",
        "rfc = RandomForestClassifier()\n",
        "rfc.fit(X_train,Y_train)\n",
        "Y_pred_rfc = rfc.predict(X_test)\n",
        "rfc_accuracy = (round(compute_accuracy(Y_test, Y_pred_rfc),4)*100)\n",
        "\n",
        "accuracy['Random Forest Classifier'] = rfc_accuracy"
      ],
      "metadata": {
        "id": "8m1HGWSLVR29"
      },
      "execution_count": 159,
      "outputs": []
    },
    {
      "cell_type": "markdown",
      "source": [
        "## Using A Neural Network"
      ],
      "metadata": {
        "id": "nwU4lxIYzcFQ"
      }
    },
    {
      "cell_type": "code",
      "source": [
        "import tensorflow.keras as tf\n",
        "model = tf.Sequential([\n",
        "    tf.layers.Dense(128,activation='relu',input_shape=(13,)),tf.layers.BatchNormalization(),tf.layers.Dropout(0.2),\n",
        "    tf.layers.Dense(64,activation='relu'),tf.layers.BatchNormalization(),tf.layers.Dropout(0.2),\n",
        "    tf.layers.Dense(32,activation='relu'),tf.layers.BatchNormalization(),tf.layers.Dropout(0.2),\n",
        "    tf.layers.Dense(16,activation='relu'),tf.layers.BatchNormalization(),tf.layers.Dropout(0.2),\n",
        "    tf.layers.Dense(1,activation='sigmoid')\n",
        "])\n",
        "\n",
        "model.compile(optimizer=tf.optimizers.Adam(0.001),loss='binary_crossentropy',metrics=['accuracy'])"
      ],
      "metadata": {
        "id": "OMOTl4JmzpYQ"
      },
      "execution_count": 160,
      "outputs": []
    },
    {
      "cell_type": "code",
      "source": [
        "history = model.fit(X_train,Y_train,epochs=100,batch_size=32,validation_data=(X_valid, Y_valid),verbose=1)"
      ],
      "metadata": {
        "colab": {
          "base_uri": "https://localhost:8080/"
        },
        "id": "8hwPvsaR252A",
        "outputId": "3ac2641c-37b8-4d0d-dacf-cf118873f1e5"
      },
      "execution_count": 161,
      "outputs": [
        {
          "output_type": "stream",
          "name": "stdout",
          "text": [
            "Epoch 1/100\n",
            "7/7 [==============================] - 3s 46ms/step - loss: 0.9145 - accuracy: 0.5092 - val_loss: 0.6850 - val_accuracy: 0.6364\n",
            "Epoch 2/100\n",
            "7/7 [==============================] - 0s 13ms/step - loss: 0.7111 - accuracy: 0.6330 - val_loss: 0.6673 - val_accuracy: 0.6667\n",
            "Epoch 3/100\n",
            "7/7 [==============================] - 0s 14ms/step - loss: 0.6401 - accuracy: 0.6789 - val_loss: 0.6528 - val_accuracy: 0.6818\n",
            "Epoch 4/100\n",
            "7/7 [==============================] - 0s 11ms/step - loss: 0.5001 - accuracy: 0.7477 - val_loss: 0.6396 - val_accuracy: 0.6970\n",
            "Epoch 5/100\n",
            "7/7 [==============================] - 0s 14ms/step - loss: 0.5781 - accuracy: 0.6972 - val_loss: 0.6291 - val_accuracy: 0.6818\n",
            "Epoch 6/100\n",
            "7/7 [==============================] - 0s 14ms/step - loss: 0.4598 - accuracy: 0.7798 - val_loss: 0.6203 - val_accuracy: 0.6667\n",
            "Epoch 7/100\n",
            "7/7 [==============================] - 0s 11ms/step - loss: 0.4246 - accuracy: 0.8165 - val_loss: 0.6116 - val_accuracy: 0.6970\n",
            "Epoch 8/100\n",
            "7/7 [==============================] - 0s 13ms/step - loss: 0.3875 - accuracy: 0.8349 - val_loss: 0.6029 - val_accuracy: 0.7121\n",
            "Epoch 9/100\n",
            "7/7 [==============================] - 0s 15ms/step - loss: 0.4870 - accuracy: 0.7569 - val_loss: 0.5935 - val_accuracy: 0.7273\n",
            "Epoch 10/100\n",
            "7/7 [==============================] - 0s 11ms/step - loss: 0.4075 - accuracy: 0.7982 - val_loss: 0.5885 - val_accuracy: 0.7424\n",
            "Epoch 11/100\n",
            "7/7 [==============================] - 0s 13ms/step - loss: 0.4414 - accuracy: 0.8028 - val_loss: 0.5831 - val_accuracy: 0.7424\n",
            "Epoch 12/100\n",
            "7/7 [==============================] - 0s 11ms/step - loss: 0.3687 - accuracy: 0.8394 - val_loss: 0.5775 - val_accuracy: 0.7424\n",
            "Epoch 13/100\n",
            "7/7 [==============================] - 0s 15ms/step - loss: 0.3775 - accuracy: 0.8119 - val_loss: 0.5744 - val_accuracy: 0.7273\n",
            "Epoch 14/100\n",
            "7/7 [==============================] - 0s 14ms/step - loss: 0.3693 - accuracy: 0.8303 - val_loss: 0.5703 - val_accuracy: 0.7424\n",
            "Epoch 15/100\n",
            "7/7 [==============================] - 0s 11ms/step - loss: 0.3938 - accuracy: 0.8211 - val_loss: 0.5674 - val_accuracy: 0.7424\n",
            "Epoch 16/100\n",
            "7/7 [==============================] - 0s 14ms/step - loss: 0.3126 - accuracy: 0.8853 - val_loss: 0.5643 - val_accuracy: 0.7576\n",
            "Epoch 17/100\n",
            "7/7 [==============================] - 0s 11ms/step - loss: 0.3443 - accuracy: 0.8349 - val_loss: 0.5617 - val_accuracy: 0.7576\n",
            "Epoch 18/100\n",
            "7/7 [==============================] - 0s 14ms/step - loss: 0.2964 - accuracy: 0.8716 - val_loss: 0.5602 - val_accuracy: 0.7576\n",
            "Epoch 19/100\n",
            "7/7 [==============================] - 0s 11ms/step - loss: 0.3230 - accuracy: 0.8761 - val_loss: 0.5582 - val_accuracy: 0.7576\n",
            "Epoch 20/100\n",
            "7/7 [==============================] - 0s 13ms/step - loss: 0.2998 - accuracy: 0.8945 - val_loss: 0.5599 - val_accuracy: 0.7424\n",
            "Epoch 21/100\n",
            "7/7 [==============================] - 0s 13ms/step - loss: 0.2956 - accuracy: 0.8578 - val_loss: 0.5609 - val_accuracy: 0.7576\n",
            "Epoch 22/100\n",
            "7/7 [==============================] - 0s 13ms/step - loss: 0.3145 - accuracy: 0.8899 - val_loss: 0.5642 - val_accuracy: 0.7576\n",
            "Epoch 23/100\n",
            "7/7 [==============================] - 0s 11ms/step - loss: 0.2918 - accuracy: 0.8807 - val_loss: 0.5695 - val_accuracy: 0.7424\n",
            "Epoch 24/100\n",
            "7/7 [==============================] - 0s 13ms/step - loss: 0.2984 - accuracy: 0.8761 - val_loss: 0.5707 - val_accuracy: 0.7727\n",
            "Epoch 25/100\n",
            "7/7 [==============================] - 0s 11ms/step - loss: 0.2559 - accuracy: 0.8899 - val_loss: 0.5710 - val_accuracy: 0.7576\n",
            "Epoch 26/100\n",
            "7/7 [==============================] - 0s 12ms/step - loss: 0.2437 - accuracy: 0.9037 - val_loss: 0.5728 - val_accuracy: 0.7424\n",
            "Epoch 27/100\n",
            "7/7 [==============================] - 0s 14ms/step - loss: 0.2815 - accuracy: 0.8807 - val_loss: 0.5751 - val_accuracy: 0.7273\n",
            "Epoch 28/100\n",
            "7/7 [==============================] - 0s 11ms/step - loss: 0.2505 - accuracy: 0.8899 - val_loss: 0.5819 - val_accuracy: 0.7424\n",
            "Epoch 29/100\n",
            "7/7 [==============================] - 0s 13ms/step - loss: 0.2633 - accuracy: 0.8899 - val_loss: 0.5896 - val_accuracy: 0.7727\n",
            "Epoch 30/100\n",
            "7/7 [==============================] - 0s 14ms/step - loss: 0.2672 - accuracy: 0.8761 - val_loss: 0.5982 - val_accuracy: 0.7576\n",
            "Epoch 31/100\n",
            "7/7 [==============================] - 0s 14ms/step - loss: 0.2409 - accuracy: 0.8991 - val_loss: 0.6004 - val_accuracy: 0.7576\n",
            "Epoch 32/100\n",
            "7/7 [==============================] - 0s 14ms/step - loss: 0.2809 - accuracy: 0.8670 - val_loss: 0.5982 - val_accuracy: 0.7727\n",
            "Epoch 33/100\n",
            "7/7 [==============================] - 0s 14ms/step - loss: 0.2646 - accuracy: 0.8945 - val_loss: 0.5960 - val_accuracy: 0.7879\n",
            "Epoch 34/100\n",
            "7/7 [==============================] - 0s 13ms/step - loss: 0.2441 - accuracy: 0.8807 - val_loss: 0.5942 - val_accuracy: 0.7879\n",
            "Epoch 35/100\n",
            "7/7 [==============================] - 0s 11ms/step - loss: 0.2453 - accuracy: 0.9174 - val_loss: 0.5954 - val_accuracy: 0.7727\n",
            "Epoch 36/100\n",
            "7/7 [==============================] - 0s 12ms/step - loss: 0.2326 - accuracy: 0.9128 - val_loss: 0.5956 - val_accuracy: 0.7879\n",
            "Epoch 37/100\n",
            "7/7 [==============================] - 0s 14ms/step - loss: 0.2120 - accuracy: 0.9174 - val_loss: 0.5992 - val_accuracy: 0.8030\n",
            "Epoch 38/100\n",
            "7/7 [==============================] - 0s 12ms/step - loss: 0.2141 - accuracy: 0.9083 - val_loss: 0.5997 - val_accuracy: 0.8182\n",
            "Epoch 39/100\n",
            "7/7 [==============================] - 0s 14ms/step - loss: 0.1991 - accuracy: 0.9128 - val_loss: 0.6029 - val_accuracy: 0.8182\n",
            "Epoch 40/100\n",
            "7/7 [==============================] - 0s 12ms/step - loss: 0.1973 - accuracy: 0.9128 - val_loss: 0.6074 - val_accuracy: 0.8182\n",
            "Epoch 41/100\n",
            "7/7 [==============================] - 0s 12ms/step - loss: 0.2257 - accuracy: 0.9083 - val_loss: 0.6152 - val_accuracy: 0.8182\n",
            "Epoch 42/100\n",
            "7/7 [==============================] - 0s 13ms/step - loss: 0.2823 - accuracy: 0.8670 - val_loss: 0.6206 - val_accuracy: 0.7879\n",
            "Epoch 43/100\n",
            "7/7 [==============================] - 0s 11ms/step - loss: 0.1957 - accuracy: 0.9266 - val_loss: 0.6272 - val_accuracy: 0.8030\n",
            "Epoch 44/100\n",
            "7/7 [==============================] - 0s 14ms/step - loss: 0.2361 - accuracy: 0.8991 - val_loss: 0.6415 - val_accuracy: 0.7879\n",
            "Epoch 45/100\n",
            "7/7 [==============================] - 0s 11ms/step - loss: 0.1684 - accuracy: 0.9633 - val_loss: 0.6541 - val_accuracy: 0.7727\n",
            "Epoch 46/100\n",
            "7/7 [==============================] - 0s 14ms/step - loss: 0.1933 - accuracy: 0.9312 - val_loss: 0.6580 - val_accuracy: 0.7727\n",
            "Epoch 47/100\n",
            "7/7 [==============================] - 0s 12ms/step - loss: 0.2041 - accuracy: 0.9174 - val_loss: 0.6630 - val_accuracy: 0.7727\n",
            "Epoch 48/100\n",
            "7/7 [==============================] - 0s 12ms/step - loss: 0.1894 - accuracy: 0.9358 - val_loss: 0.6696 - val_accuracy: 0.7727\n",
            "Epoch 49/100\n",
            "7/7 [==============================] - 0s 11ms/step - loss: 0.1563 - accuracy: 0.9358 - val_loss: 0.6752 - val_accuracy: 0.7727\n",
            "Epoch 50/100\n",
            "7/7 [==============================] - 0s 13ms/step - loss: 0.1861 - accuracy: 0.9128 - val_loss: 0.6708 - val_accuracy: 0.7879\n",
            "Epoch 51/100\n",
            "7/7 [==============================] - 0s 14ms/step - loss: 0.1702 - accuracy: 0.9266 - val_loss: 0.6680 - val_accuracy: 0.7879\n",
            "Epoch 52/100\n",
            "7/7 [==============================] - 0s 11ms/step - loss: 0.1746 - accuracy: 0.9358 - val_loss: 0.6740 - val_accuracy: 0.8030\n",
            "Epoch 53/100\n",
            "7/7 [==============================] - 0s 12ms/step - loss: 0.1235 - accuracy: 0.9679 - val_loss: 0.6876 - val_accuracy: 0.7879\n",
            "Epoch 54/100\n",
            "7/7 [==============================] - 0s 16ms/step - loss: 0.1784 - accuracy: 0.9037 - val_loss: 0.6937 - val_accuracy: 0.7879\n",
            "Epoch 55/100\n",
            "7/7 [==============================] - 0s 12ms/step - loss: 0.1646 - accuracy: 0.9404 - val_loss: 0.6922 - val_accuracy: 0.8030\n",
            "Epoch 56/100\n",
            "7/7 [==============================] - 0s 14ms/step - loss: 0.1547 - accuracy: 0.9450 - val_loss: 0.6957 - val_accuracy: 0.8030\n",
            "Epoch 57/100\n",
            "7/7 [==============================] - 0s 12ms/step - loss: 0.1336 - accuracy: 0.9450 - val_loss: 0.6971 - val_accuracy: 0.8030\n",
            "Epoch 58/100\n",
            "7/7 [==============================] - 0s 12ms/step - loss: 0.1697 - accuracy: 0.9312 - val_loss: 0.7116 - val_accuracy: 0.8182\n",
            "Epoch 59/100\n",
            "7/7 [==============================] - 0s 12ms/step - loss: 0.1158 - accuracy: 0.9633 - val_loss: 0.7271 - val_accuracy: 0.7879\n",
            "Epoch 60/100\n",
            "7/7 [==============================] - 0s 15ms/step - loss: 0.1711 - accuracy: 0.9358 - val_loss: 0.7296 - val_accuracy: 0.7879\n",
            "Epoch 61/100\n",
            "7/7 [==============================] - 0s 14ms/step - loss: 0.1308 - accuracy: 0.9404 - val_loss: 0.7277 - val_accuracy: 0.7879\n",
            "Epoch 62/100\n",
            "7/7 [==============================] - 0s 12ms/step - loss: 0.1497 - accuracy: 0.9266 - val_loss: 0.7178 - val_accuracy: 0.7879\n",
            "Epoch 63/100\n",
            "7/7 [==============================] - 0s 13ms/step - loss: 0.1440 - accuracy: 0.9358 - val_loss: 0.7310 - val_accuracy: 0.7879\n",
            "Epoch 64/100\n",
            "7/7 [==============================] - 0s 13ms/step - loss: 0.1485 - accuracy: 0.9312 - val_loss: 0.7440 - val_accuracy: 0.7879\n",
            "Epoch 65/100\n",
            "7/7 [==============================] - 0s 16ms/step - loss: 0.1215 - accuracy: 0.9587 - val_loss: 0.7588 - val_accuracy: 0.7727\n",
            "Epoch 66/100\n",
            "7/7 [==============================] - 0s 14ms/step - loss: 0.1765 - accuracy: 0.9220 - val_loss: 0.7659 - val_accuracy: 0.8182\n",
            "Epoch 67/100\n",
            "7/7 [==============================] - 0s 11ms/step - loss: 0.1763 - accuracy: 0.9404 - val_loss: 0.7661 - val_accuracy: 0.7727\n",
            "Epoch 68/100\n",
            "7/7 [==============================] - 0s 12ms/step - loss: 0.1280 - accuracy: 0.9679 - val_loss: 0.7571 - val_accuracy: 0.7879\n",
            "Epoch 69/100\n",
            "7/7 [==============================] - 0s 15ms/step - loss: 0.1017 - accuracy: 0.9679 - val_loss: 0.7556 - val_accuracy: 0.8030\n",
            "Epoch 70/100\n",
            "7/7 [==============================] - 0s 14ms/step - loss: 0.1694 - accuracy: 0.9312 - val_loss: 0.7509 - val_accuracy: 0.7879\n",
            "Epoch 71/100\n",
            "7/7 [==============================] - 0s 12ms/step - loss: 0.1303 - accuracy: 0.9404 - val_loss: 0.7533 - val_accuracy: 0.8030\n",
            "Epoch 72/100\n",
            "7/7 [==============================] - 0s 14ms/step - loss: 0.0848 - accuracy: 0.9679 - val_loss: 0.7453 - val_accuracy: 0.8030\n",
            "Epoch 73/100\n",
            "7/7 [==============================] - 0s 11ms/step - loss: 0.1097 - accuracy: 0.9633 - val_loss: 0.7507 - val_accuracy: 0.8333\n",
            "Epoch 74/100\n",
            "7/7 [==============================] - 0s 11ms/step - loss: 0.0608 - accuracy: 1.0000 - val_loss: 0.7461 - val_accuracy: 0.8182\n",
            "Epoch 75/100\n",
            "7/7 [==============================] - 0s 11ms/step - loss: 0.0895 - accuracy: 0.9817 - val_loss: 0.7452 - val_accuracy: 0.8333\n",
            "Epoch 76/100\n",
            "7/7 [==============================] - 0s 16ms/step - loss: 0.0642 - accuracy: 0.9771 - val_loss: 0.7373 - val_accuracy: 0.8333\n",
            "Epoch 77/100\n",
            "7/7 [==============================] - 0s 14ms/step - loss: 0.0941 - accuracy: 0.9725 - val_loss: 0.7452 - val_accuracy: 0.8182\n",
            "Epoch 78/100\n",
            "7/7 [==============================] - 0s 18ms/step - loss: 0.0858 - accuracy: 0.9633 - val_loss: 0.7714 - val_accuracy: 0.8182\n",
            "Epoch 79/100\n",
            "7/7 [==============================] - 0s 18ms/step - loss: 0.0857 - accuracy: 0.9679 - val_loss: 0.8135 - val_accuracy: 0.8182\n",
            "Epoch 80/100\n",
            "7/7 [==============================] - 0s 17ms/step - loss: 0.1380 - accuracy: 0.9541 - val_loss: 0.8389 - val_accuracy: 0.7879\n",
            "Epoch 81/100\n",
            "7/7 [==============================] - 0s 19ms/step - loss: 0.1701 - accuracy: 0.9312 - val_loss: 0.8621 - val_accuracy: 0.7727\n",
            "Epoch 82/100\n",
            "7/7 [==============================] - 0s 20ms/step - loss: 0.0771 - accuracy: 0.9725 - val_loss: 0.8826 - val_accuracy: 0.7727\n",
            "Epoch 83/100\n",
            "7/7 [==============================] - 0s 26ms/step - loss: 0.0926 - accuracy: 0.9633 - val_loss: 0.8797 - val_accuracy: 0.7273\n",
            "Epoch 84/100\n",
            "7/7 [==============================] - 0s 20ms/step - loss: 0.0794 - accuracy: 0.9679 - val_loss: 0.8880 - val_accuracy: 0.7879\n",
            "Epoch 85/100\n",
            "7/7 [==============================] - 0s 19ms/step - loss: 0.0967 - accuracy: 0.9587 - val_loss: 0.8863 - val_accuracy: 0.7727\n",
            "Epoch 86/100\n",
            "7/7 [==============================] - 0s 19ms/step - loss: 0.1161 - accuracy: 0.9587 - val_loss: 0.8861 - val_accuracy: 0.7576\n",
            "Epoch 87/100\n",
            "7/7 [==============================] - 0s 20ms/step - loss: 0.1248 - accuracy: 0.9541 - val_loss: 0.8852 - val_accuracy: 0.7879\n",
            "Epoch 88/100\n",
            "7/7 [==============================] - 0s 19ms/step - loss: 0.0821 - accuracy: 0.9587 - val_loss: 0.8688 - val_accuracy: 0.8182\n",
            "Epoch 89/100\n",
            "7/7 [==============================] - 0s 18ms/step - loss: 0.0645 - accuracy: 0.9862 - val_loss: 0.8696 - val_accuracy: 0.8182\n",
            "Epoch 90/100\n",
            "7/7 [==============================] - 0s 18ms/step - loss: 0.0551 - accuracy: 0.9817 - val_loss: 0.8741 - val_accuracy: 0.8030\n",
            "Epoch 91/100\n",
            "7/7 [==============================] - 0s 27ms/step - loss: 0.1115 - accuracy: 0.9541 - val_loss: 0.8826 - val_accuracy: 0.7727\n",
            "Epoch 92/100\n",
            "7/7 [==============================] - 0s 19ms/step - loss: 0.0999 - accuracy: 0.9725 - val_loss: 0.8957 - val_accuracy: 0.7727\n",
            "Epoch 93/100\n",
            "7/7 [==============================] - 0s 20ms/step - loss: 0.0881 - accuracy: 0.9633 - val_loss: 0.8953 - val_accuracy: 0.8030\n",
            "Epoch 94/100\n",
            "7/7 [==============================] - 0s 12ms/step - loss: 0.0654 - accuracy: 0.9862 - val_loss: 0.8991 - val_accuracy: 0.8333\n",
            "Epoch 95/100\n",
            "7/7 [==============================] - 0s 12ms/step - loss: 0.0621 - accuracy: 0.9725 - val_loss: 0.9082 - val_accuracy: 0.8333\n",
            "Epoch 96/100\n",
            "7/7 [==============================] - 0s 12ms/step - loss: 0.0628 - accuracy: 0.9771 - val_loss: 0.9099 - val_accuracy: 0.8030\n",
            "Epoch 97/100\n",
            "7/7 [==============================] - 0s 12ms/step - loss: 0.0846 - accuracy: 0.9587 - val_loss: 0.9324 - val_accuracy: 0.7576\n",
            "Epoch 98/100\n",
            "7/7 [==============================] - 0s 12ms/step - loss: 0.0819 - accuracy: 0.9817 - val_loss: 0.9330 - val_accuracy: 0.7576\n",
            "Epoch 99/100\n",
            "7/7 [==============================] - 0s 15ms/step - loss: 0.0876 - accuracy: 0.9679 - val_loss: 0.9504 - val_accuracy: 0.7576\n",
            "Epoch 100/100\n",
            "7/7 [==============================] - 0s 11ms/step - loss: 0.0995 - accuracy: 0.9725 - val_loss: 0.9546 - val_accuracy: 0.7879\n"
          ]
        }
      ]
    },
    {
      "cell_type": "code",
      "source": [
        "Y_pred_nn = (model.predict(X_test)>0.8).astype(int).reshape(-1)\n",
        "\n",
        "nn_accuracy = (round(compute_accuracy(Y_test, Y_pred_nn),4)*100)\n",
        "\n",
        "accuracy['Neural Network'] = nn_accuracy"
      ],
      "metadata": {
        "colab": {
          "base_uri": "https://localhost:8080/"
        },
        "id": "d9QvJ7Wf36s1",
        "outputId": "a038659f-4bc6-426d-8508-d1ecfc01319d"
      },
      "execution_count": 162,
      "outputs": [
        {
          "output_type": "stream",
          "name": "stdout",
          "text": [
            "2/2 [==============================] - 0s 6ms/step\n"
          ]
        }
      ]
    },
    {
      "cell_type": "code",
      "source": [
        "print(accuracy)"
      ],
      "metadata": {
        "colab": {
          "base_uri": "https://localhost:8080/"
        },
        "id": "P7qpVDRbNXjG",
        "outputId": "aa14921a-fa7b-4bdc-f7db-eaa9445f314a"
      },
      "execution_count": 163,
      "outputs": [
        {
          "output_type": "stream",
          "name": "stdout",
          "text": [
            "{'KNN': 86.96000000000001, 'Logistic Regression': 84.78, 'Decision Tree Classifier': 73.91, 'Random Forest Classifier': 89.13, 'Neural Network': 82.61}\n"
          ]
        }
      ]
    },
    {
      "cell_type": "code",
      "source": [
        "import matplotlib.pyplot as plt\n",
        "import seaborn as sns\n",
        "plt.figure(figsize=(12,7))\n",
        "ax = sns.barplot(x=list(accuracy.keys()),y=list(accuracy.values()),palette=\"deep\")\n",
        "plt.xlabel(\"Machine Learning Models\",fontsize=15)\n",
        "plt.ylabel(\"Accuracy %\",fontsize=15)\n",
        "for p in ax.patches :\n",
        "  width = p.get_width()\n",
        "  height = p.get_height()\n",
        "  x = p.get_x()\n",
        "  y = p.get_y()\n",
        "  ax.annotate(f\"{height}%\",(x+width/2,y+height*1.01),ha=\"center\")\n",
        "plt.show()"
      ],
      "metadata": {
        "colab": {
          "base_uri": "https://localhost:8080/",
          "height": 732
        },
        "id": "BDPw2o5_WBsq",
        "outputId": "82cbefab-99ec-45fd-90d8-0d22d1af622f"
      },
      "execution_count": 164,
      "outputs": [
        {
          "output_type": "stream",
          "name": "stderr",
          "text": [
            "<ipython-input-164-c535a5d30d03>:4: FutureWarning: \n",
            "\n",
            "Passing `palette` without assigning `hue` is deprecated and will be removed in v0.14.0. Assign the `x` variable to `hue` and set `legend=False` for the same effect.\n",
            "\n",
            "  ax = sns.barplot(x=list(accuracy.keys()),y=list(accuracy.values()),palette=\"deep\")\n"
          ]
        },
        {
          "output_type": "display_data",
          "data": {
            "text/plain": [
              "<Figure size 1200x700 with 1 Axes>"
            ],
            "image/png": "[encoded data removed]"
          },
          "metadata": {}
        }
      ]
    }
  ]
}