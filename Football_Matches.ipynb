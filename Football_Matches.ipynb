{
  "nbformat": 4,
  "nbformat_minor": 0,
  "metadata": {
    "colab": {
      "provenance": [],
      "authorship_tag": "ABX9TyPpXJhpq2Jzp1LupR/MzYzS",
      "include_colab_link": true
    },
    "kernelspec": {
      "name": "python3",
      "display_name": "Python 3"
    },
    "language_info": {
      "name": "python"
    }
  },
  "cells": [
    {
      "cell_type": "markdown",
      "metadata": {
        "id": "view-in-github",
        "colab_type": "text"
      },
      "source": [
        "<a href=\"https://colab.research.google.com/github/saikrish1105/Heart-Disease-Detection/blob/main/Football_Matches.ipynb\" target=\"_parent\"><img src=\"https://colab.research.google.com/assets/colab-badge.svg\" alt=\"Open In Colab\"/></a>"
      ]
    },
    {
      "cell_type": "code",
      "execution_count": null,
      "metadata": {
        "id": "IeoXTbn201g6"
      },
      "outputs": [],
      "source": [
        "import numpy as np\n",
        "import pandas as pd\n",
        "from sklearn.preprocessing import StandardScaler\n",
        "from imblearn.over_sampling import RandomOverSampler"
      ]
    },
    {
      "cell_type": "markdown",
      "source": [
        "# **Painful Pre-Proccesing of Data**"
      ],
      "metadata": {
        "id": "aLEZr9roRdK2"
      }
    },
    {
      "cell_type": "code",
      "source": [
        "df = pd.read_csv(\"international_matches.csv\")\n",
        "\n",
        "#convert the target column to integer\n",
        "mapping = {'Win': 0, 'Draw': 1, 'Lose': 2}\n",
        "df['home_team_result'] = df['home_team_result'].map(mapping)\n",
        "\n",
        "#remove all columns with datatype object as they are useless for win\n",
        "for col in df.columns:\n",
        "    if df[col].dtype == object:\n",
        "        df = df.drop(col, axis=1)\n",
        "\n",
        "#convert boolean column to integer\n",
        "df['neutral_location'] = df['neutral_location'].astype(int)"
      ],
      "metadata": {
        "id": "TMjLWSFC060R"
      },
      "execution_count": null,
      "outputs": []
    },
    {
      "cell_type": "code",
      "source": [
        "# gives the percentage of null values in each column\n",
        "df.isnull().sum()/len(df)*100"
      ],
      "metadata": {
        "colab": {
          "base_uri": "https://localhost:8080/"
        },
        "id": "X6AUpiLzBvfS",
        "outputId": "ea932964-39fb-4eef-db9a-4f6f6593b1e8"
      },
      "execution_count": null,
      "outputs": [
        {
          "output_type": "execute_result",
          "data": {
            "text/plain": [
              "home_team_fifa_rank               0.000000\n",
              "away_team_fifa_rank               0.000000\n",
              "home_team_total_fifa_points       0.000000\n",
              "away_team_total_fifa_points       0.000000\n",
              "home_team_score                   0.000000\n",
              "away_team_score                   0.000000\n",
              "neutral_location                  0.000000\n",
              "home_team_result                  0.000000\n",
              "home_team_goalkeeper_score       64.972200\n",
              "away_team_goalkeeper_score       66.159441\n",
              "home_team_mean_defense_score     67.447013\n",
              "home_team_mean_offense_score     64.424564\n",
              "home_team_mean_midfield_score    65.879353\n",
              "away_team_mean_defense_score     68.379248\n",
              "away_team_mean_offense_score     65.252289\n",
              "away_team_mean_midfield_score    66.644371\n",
              "dtype: float64"
            ]
          },
          "metadata": {},
          "execution_count": 117
        }
      ]
    },
    {
      "cell_type": "code",
      "source": [
        "drop all rows withthout atleast 2 non null values from home_team_goalkeeper_score to away_team_mean_midfield_score\n",
        "df = df.dropna(axis=0, thresh=2,subset=['home_team_goalkeeper_score','away_team_goalkeeper_score','home_team_mean_defense_score',\n",
        "                                        'away_team_mean_defense_score','home_team_mean_offense_score','away_team_mean_offense_score',\n",
        "                                        'home_team_mean_midfield_score','away_team_mean_midfield_score'])\n",
        "\n",
        "\n",
        "\n",
        "Fill missing values with mean\n",
        "df.fillna(df.mean(), inplace=True)"
      ],
      "metadata": {
        "id": "5NoY5XXiLPk1"
      },
      "execution_count": null,
      "outputs": []
    },
    {
      "cell_type": "code",
      "source": [
        "df.info()"
      ],
      "metadata": {
        "colab": {
          "base_uri": "https://localhost:8080/"
        },
        "id": "69pd7Zce4JFT",
        "outputId": "e985834c-8574-45f0-ce8a-6ba54683a611"
      },
      "execution_count": null,
      "outputs": [
        {
          "output_type": "stream",
          "name": "stdout",
          "text": [
            "<class 'pandas.core.frame.DataFrame'>\n",
            "RangeIndex: 23921 entries, 0 to 23920\n",
            "Data columns (total 8 columns):\n",
            " #   Column                       Non-Null Count  Dtype\n",
            "---  ------                       --------------  -----\n",
            " 0   home_team_fifa_rank          23921 non-null  int64\n",
            " 1   away_team_fifa_rank          23921 non-null  int64\n",
            " 2   home_team_total_fifa_points  23921 non-null  int64\n",
            " 3   away_team_total_fifa_points  23921 non-null  int64\n",
            " 4   home_team_score              23921 non-null  int64\n",
            " 5   away_team_score              23921 non-null  int64\n",
            " 6   neutral_location             23921 non-null  int64\n",
            " 7   home_team_result             23921 non-null  int64\n",
            "dtypes: int64(8)\n",
            "memory usage: 1.5 MB\n"
          ]
        }
      ]
    },
    {
      "cell_type": "code",
      "source": [
        "#should give 0 now\n",
        "df.isnull().sum()/len(df)*100"
      ],
      "metadata": {
        "colab": {
          "base_uri": "https://localhost:8080/"
        },
        "id": "9PxO_6a6Jh4F",
        "outputId": "2e128c2b-cb32-466b-e49c-e42604fc4bed"
      },
      "execution_count": null,
      "outputs": [
        {
          "output_type": "execute_result",
          "data": {
            "text/plain": [
              "home_team_fifa_rank            0.0\n",
              "away_team_fifa_rank            0.0\n",
              "home_team_total_fifa_points    0.0\n",
              "away_team_total_fifa_points    0.0\n",
              "home_team_score                0.0\n",
              "away_team_score                0.0\n",
              "neutral_location               0.0\n",
              "home_team_result               0.0\n",
              "dtype: float64"
            ]
          },
          "metadata": {},
          "execution_count": 120
        }
      ]
    },
    {
      "cell_type": "code",
      "source": [
        "#move the target column to the end\n",
        "column_to_move = df.pop(\"home_team_result\")\n",
        "df.insert(len(df.columns), \"home_team_result\", column_to_move)\n",
        "df"
      ],
      "metadata": {
        "id": "Kf4dZpQvHRc0",
        "colab": {
          "base_uri": "https://localhost:8080/",
          "height": 423
        },
        "outputId": "3268fe1d-919a-4b52-fca9-1a83952baf5a"
      },
      "execution_count": null,
      "outputs": [
        {
          "output_type": "execute_result",
          "data": {
            "text/plain": [
              "       home_team_fifa_rank  away_team_fifa_rank  home_team_total_fifa_points  \\\n",
              "0                       59                   22                            0   \n",
              "1                        8                   14                            0   \n",
              "2                       35                   94                            0   \n",
              "3                       65                   86                            0   \n",
              "4                       67                    5                            0   \n",
              "...                    ...                  ...                          ...   \n",
              "23916                  180                  153                          932   \n",
              "23917                  192                  135                          895   \n",
              "23918                   28                   60                         1526   \n",
              "23919                   23                   35                         1553   \n",
              "23920                   29                   32                         1519   \n",
              "\n",
              "       away_team_total_fifa_points  home_team_score  away_team_score  \\\n",
              "0                                0                3                1   \n",
              "1                                0                1                1   \n",
              "2                                0                5                0   \n",
              "3                                0                1                0   \n",
              "4                                0                1                3   \n",
              "...                            ...              ...              ...   \n",
              "23916                         1040                2                1   \n",
              "23917                         1105                0                2   \n",
              "23918                         1387                0                0   \n",
              "23919                         1499                0                3   \n",
              "23920                         1500                4                1   \n",
              "\n",
              "       neutral_location  home_team_result  \n",
              "0                     0                 0  \n",
              "1                     0                 1  \n",
              "2                     0                 0  \n",
              "3                     0                 0  \n",
              "4                     0                 2  \n",
              "...                 ...               ...  \n",
              "23916                 0                 0  \n",
              "23917                 0                 2  \n",
              "23918                 1                 2  \n",
              "23919                 0                 2  \n",
              "23920                 0                 0  \n",
              "\n",
              "[23921 rows x 8 columns]"
            ],
            "text/html": [
              "\n",
              "  <div id=\"df-b19afc07-7c5c-4d2a-8917-a95e1eed82c5\" class=\"colab-df-container\">\n",
              "    <div>\n",
              "<style scoped>\n",
              "    .dataframe tbody tr th:only-of-type {\n",
              "        vertical-align: middle;\n",
              "    }\n",
              "\n",
              "    .dataframe tbody tr th {\n",
              "        vertical-align: top;\n",
              "    }\n",
              "\n",
              "    .dataframe thead th {\n",
              "        text-align: right;\n",
              "    }\n",
              "</style>\n",
              "<table border=\"1\" class=\"dataframe\">\n",
              "  <thead>\n",
              "    <tr style=\"text-align: right;\">\n",
              "      <th></th>\n",
              "      <th>home_team_fifa_rank</th>\n",
              "      <th>away_team_fifa_rank</th>\n",
              "      <th>home_team_total_fifa_points</th>\n",
              "      <th>away_team_total_fifa_points</th>\n",
              "      <th>home_team_score</th>\n",
              "      <th>away_team_score</th>\n",
              "      <th>neutral_location</th>\n",
              "      <th>home_team_result</th>\n",
              "    </tr>\n",
              "  </thead>\n",
              "  <tbody>\n",
              "    <tr>\n",
              "      <th>0</th>\n",
              "      <td>59</td>\n",
              "      <td>22</td>\n",
              "      <td>0</td>\n",
              "      <td>0</td>\n",
              "      <td>3</td>\n",
              "      <td>1</td>\n",
              "      <td>0</td>\n",
              "      <td>0</td>\n",
              "    </tr>\n",
              "    <tr>\n",
              "      <th>1</th>\n",
              "      <td>8</td>\n",
              "      <td>14</td>\n",
              "      <td>0</td>\n",
              "      <td>0</td>\n",
              "      <td>1</td>\n",
              "      <td>1</td>\n",
              "      <td>0</td>\n",
              "      <td>1</td>\n",
              "    </tr>\n",
              "    <tr>\n",
              "      <th>2</th>\n",
              "      <td>35</td>\n",
              "      <td>94</td>\n",
              "      <td>0</td>\n",
              "      <td>0</td>\n",
              "      <td>5</td>\n",
              "      <td>0</td>\n",
              "      <td>0</td>\n",
              "      <td>0</td>\n",
              "    </tr>\n",
              "    <tr>\n",
              "      <th>3</th>\n",
              "      <td>65</td>\n",
              "      <td>86</td>\n",
              "      <td>0</td>\n",
              "      <td>0</td>\n",
              "      <td>1</td>\n",
              "      <td>0</td>\n",
              "      <td>0</td>\n",
              "      <td>0</td>\n",
              "    </tr>\n",
              "    <tr>\n",
              "      <th>4</th>\n",
              "      <td>67</td>\n",
              "      <td>5</td>\n",
              "      <td>0</td>\n",
              "      <td>0</td>\n",
              "      <td>1</td>\n",
              "      <td>3</td>\n",
              "      <td>0</td>\n",
              "      <td>2</td>\n",
              "    </tr>\n",
              "    <tr>\n",
              "      <th>...</th>\n",
              "      <td>...</td>\n",
              "      <td>...</td>\n",
              "      <td>...</td>\n",
              "      <td>...</td>\n",
              "      <td>...</td>\n",
              "      <td>...</td>\n",
              "      <td>...</td>\n",
              "      <td>...</td>\n",
              "    </tr>\n",
              "    <tr>\n",
              "      <th>23916</th>\n",
              "      <td>180</td>\n",
              "      <td>153</td>\n",
              "      <td>932</td>\n",
              "      <td>1040</td>\n",
              "      <td>2</td>\n",
              "      <td>1</td>\n",
              "      <td>0</td>\n",
              "      <td>0</td>\n",
              "    </tr>\n",
              "    <tr>\n",
              "      <th>23917</th>\n",
              "      <td>192</td>\n",
              "      <td>135</td>\n",
              "      <td>895</td>\n",
              "      <td>1105</td>\n",
              "      <td>0</td>\n",
              "      <td>2</td>\n",
              "      <td>0</td>\n",
              "      <td>2</td>\n",
              "    </tr>\n",
              "    <tr>\n",
              "      <th>23918</th>\n",
              "      <td>28</td>\n",
              "      <td>60</td>\n",
              "      <td>1526</td>\n",
              "      <td>1387</td>\n",
              "      <td>0</td>\n",
              "      <td>0</td>\n",
              "      <td>1</td>\n",
              "      <td>2</td>\n",
              "    </tr>\n",
              "    <tr>\n",
              "      <th>23919</th>\n",
              "      <td>23</td>\n",
              "      <td>35</td>\n",
              "      <td>1553</td>\n",
              "      <td>1499</td>\n",
              "      <td>0</td>\n",
              "      <td>3</td>\n",
              "      <td>0</td>\n",
              "      <td>2</td>\n",
              "    </tr>\n",
              "    <tr>\n",
              "      <th>23920</th>\n",
              "      <td>29</td>\n",
              "      <td>32</td>\n",
              "      <td>1519</td>\n",
              "      <td>1500</td>\n",
              "      <td>4</td>\n",
              "      <td>1</td>\n",
              "      <td>0</td>\n",
              "      <td>0</td>\n",
              "    </tr>\n",
              "  </tbody>\n",
              "</table>\n",
              "<p>23921 rows × 8 columns</p>\n",
              "</div>\n",
              "    <div class=\"colab-df-buttons\">\n",
              "\n",
              "  <div class=\"colab-df-container\">\n",
              "    <button class=\"colab-df-convert\" onclick=\"convertToInteractive('df-b19afc07-7c5c-4d2a-8917-a95e1eed82c5')\"\n",
              "            title=\"Convert this dataframe to an interactive table.\"\n",
              "            style=\"display:none;\">\n",
              "\n",
              "  <svg xmlns=\"http://www.w3.org/2000/svg\" height=\"24px\" viewBox=\"0 -960 960 960\">\n",
              "    <path d=\"M120-120v-720h720v720H120Zm60-500h600v-160H180v160Zm220 220h160v-160H400v160Zm0 220h160v-160H400v160ZM180-400h160v-160H180v160Zm440 0h160v-160H620v160ZM180-180h160v-160H180v160Zm440 0h160v-160H620v160Z\"/>\n",
              "  </svg>\n",
              "    </button>\n",
              "\n",
              "  <style>\n",
              "    .colab-df-container {\n",
              "      display:flex;\n",
              "      gap: 12px;\n",
              "    }\n",
              "\n",
              "    .colab-df-convert {\n",
              "      background-color: #E8F0FE;\n",
              "      border: none;\n",
              "      border-radius: 50%;\n",
              "      cursor: pointer;\n",
              "      display: none;\n",
              "      fill: #1967D2;\n",
              "      height: 32px;\n",
              "      padding: 0 0 0 0;\n",
              "      width: 32px;\n",
              "    }\n",
              "\n",
              "    .colab-df-convert:hover {\n",
              "      background-color: #E2EBFA;\n",
              "      box-shadow: 0px 1px 2px rgba(60, 64, 67, 0.3), 0px 1px 3px 1px rgba(60, 64, 67, 0.15);\n",
              "      fill: #174EA6;\n",
              "    }\n",
              "\n",
              "    .colab-df-buttons div {\n",
              "      margin-bottom: 4px;\n",
              "    }\n",
              "\n",
              "    [theme=dark] .colab-df-convert {\n",
              "      background-color: #3B4455;\n",
              "      fill: #D2E3FC;\n",
              "    }\n",
              "\n",
              "    [theme=dark] .colab-df-convert:hover {\n",
              "      background-color: #434B5C;\n",
              "      box-shadow: 0px 1px 3px 1px rgba(0, 0, 0, 0.15);\n",
              "      filter: drop-shadow(0px 1px 2px rgba(0, 0, 0, 0.3));\n",
              "      fill: #FFFFFF;\n",
              "    }\n",
              "  </style>\n",
              "\n",
              "    <script>\n",
              "      const buttonEl =\n",
              "        document.querySelector('#df-b19afc07-7c5c-4d2a-8917-a95e1eed82c5 button.colab-df-convert');\n",
              "      buttonEl.style.display =\n",
              "        google.colab.kernel.accessAllowed ? 'block' : 'none';\n",
              "\n",
              "      async function convertToInteractive(key) {\n",
              "        const element = document.querySelector('#df-b19afc07-7c5c-4d2a-8917-a95e1eed82c5');\n",
              "        const dataTable =\n",
              "          await google.colab.kernel.invokeFunction('convertToInteractive',\n",
              "                                                    [key], {});\n",
              "        if (!dataTable) return;\n",
              "\n",
              "        const docLinkHtml = 'Like what you see? Visit the ' +\n",
              "          '<a target=\"_blank\" href=https://colab.research.google.com/notebooks/data_table.ipynb>data table notebook</a>'\n",
              "          + ' to learn more about interactive tables.';\n",
              "        element.innerHTML = '';\n",
              "        dataTable['output_type'] = 'display_data';\n",
              "        await google.colab.output.renderOutput(dataTable, element);\n",
              "        const docLink = document.createElement('div');\n",
              "        docLink.innerHTML = docLinkHtml;\n",
              "        element.appendChild(docLink);\n",
              "      }\n",
              "    </script>\n",
              "  </div>\n",
              "\n",
              "\n",
              "<div id=\"df-eddf0f21-f22f-41b5-99be-1d0fb7e8c9e9\">\n",
              "  <button class=\"colab-df-quickchart\" onclick=\"quickchart('df-eddf0f21-f22f-41b5-99be-1d0fb7e8c9e9')\"\n",
              "            title=\"Suggest charts\"\n",
              "            style=\"display:none;\">\n",
              "\n",
              "<svg xmlns=\"http://www.w3.org/2000/svg\" height=\"24px\"viewBox=\"0 0 24 24\"\n",
              "     width=\"24px\">\n",
              "    <g>\n",
              "        <path d=\"M19 3H5c-1.1 0-2 .9-2 2v14c0 1.1.9 2 2 2h14c1.1 0 2-.9 2-2V5c0-1.1-.9-2-2-2zM9 17H7v-7h2v7zm4 0h-2V7h2v10zm4 0h-2v-4h2v4z\"/>\n",
              "    </g>\n",
              "</svg>\n",
              "  </button>\n",
              "\n",
              "<style>\n",
              "  .colab-df-quickchart {\n",
              "      --bg-color: #E8F0FE;\n",
              "      --fill-color: #1967D2;\n",
              "      --hover-bg-color: #E2EBFA;\n",
              "      --hover-fill-color: #174EA6;\n",
              "      --disabled-fill-color: #AAA;\n",
              "      --disabled-bg-color: #DDD;\n",
              "  }\n",
              "\n",
              "  [theme=dark] .colab-df-quickchart {\n",
              "      --bg-color: #3B4455;\n",
              "      --fill-color: #D2E3FC;\n",
              "      --hover-bg-color: #434B5C;\n",
              "      --hover-fill-color: #FFFFFF;\n",
              "      --disabled-bg-color: #3B4455;\n",
              "      --disabled-fill-color: #666;\n",
              "  }\n",
              "\n",
              "  .colab-df-quickchart {\n",
              "    background-color: var(--bg-color);\n",
              "    border: none;\n",
              "    border-radius: 50%;\n",
              "    cursor: pointer;\n",
              "    display: none;\n",
              "    fill: var(--fill-color);\n",
              "    height: 32px;\n",
              "    padding: 0;\n",
              "    width: 32px;\n",
              "  }\n",
              "\n",
              "  .colab-df-quickchart:hover {\n",
              "    background-color: var(--hover-bg-color);\n",
              "    box-shadow: 0 1px 2px rgba(60, 64, 67, 0.3), 0 1px 3px 1px rgba(60, 64, 67, 0.15);\n",
              "    fill: var(--button-hover-fill-color);\n",
              "  }\n",
              "\n",
              "  .colab-df-quickchart-complete:disabled,\n",
              "  .colab-df-quickchart-complete:disabled:hover {\n",
              "    background-color: var(--disabled-bg-color);\n",
              "    fill: var(--disabled-fill-color);\n",
              "    box-shadow: none;\n",
              "  }\n",
              "\n",
              "  .colab-df-spinner {\n",
              "    border: 2px solid var(--fill-color);\n",
              "    border-color: transparent;\n",
              "    border-bottom-color: var(--fill-color);\n",
              "    animation:\n",
              "      spin 1s steps(1) infinite;\n",
              "  }\n",
              "\n",
              "  @keyframes spin {\n",
              "    0% {\n",
              "      border-color: transparent;\n",
              "      border-bottom-color: var(--fill-color);\n",
              "      border-left-color: var(--fill-color);\n",
              "    }\n",
              "    20% {\n",
              "      border-color: transparent;\n",
              "      border-left-color: var(--fill-color);\n",
              "      border-top-color: var(--fill-color);\n",
              "    }\n",
              "    30% {\n",
              "      border-color: transparent;\n",
              "      border-left-color: var(--fill-color);\n",
              "      border-top-color: var(--fill-color);\n",
              "      border-right-color: var(--fill-color);\n",
              "    }\n",
              "    40% {\n",
              "      border-color: transparent;\n",
              "      border-right-color: var(--fill-color);\n",
              "      border-top-color: var(--fill-color);\n",
              "    }\n",
              "    60% {\n",
              "      border-color: transparent;\n",
              "      border-right-color: var(--fill-color);\n",
              "    }\n",
              "    80% {\n",
              "      border-color: transparent;\n",
              "      border-right-color: var(--fill-color);\n",
              "      border-bottom-color: var(--fill-color);\n",
              "    }\n",
              "    90% {\n",
              "      border-color: transparent;\n",
              "      border-bottom-color: var(--fill-color);\n",
              "    }\n",
              "  }\n",
              "</style>\n",
              "\n",
              "  <script>\n",
              "    async function quickchart(key) {\n",
              "      const quickchartButtonEl =\n",
              "        document.querySelector('#' + key + ' button');\n",
              "      quickchartButtonEl.disabled = true;  // To prevent multiple clicks.\n",
              "      quickchartButtonEl.classList.add('colab-df-spinner');\n",
              "      try {\n",
              "        const charts = await google.colab.kernel.invokeFunction(\n",
              "            'suggestCharts', [key], {});\n",
              "      } catch (error) {\n",
              "        console.error('Error during call to suggestCharts:', error);\n",
              "      }\n",
              "      quickchartButtonEl.classList.remove('colab-df-spinner');\n",
              "      quickchartButtonEl.classList.add('colab-df-quickchart-complete');\n",
              "    }\n",
              "    (() => {\n",
              "      let quickchartButtonEl =\n",
              "        document.querySelector('#df-eddf0f21-f22f-41b5-99be-1d0fb7e8c9e9 button');\n",
              "      quickchartButtonEl.style.display =\n",
              "        google.colab.kernel.accessAllowed ? 'block' : 'none';\n",
              "    })();\n",
              "  </script>\n",
              "</div>\n",
              "    </div>\n",
              "  </div>\n"
            ],
            "application/vnd.google.colaboratory.intrinsic+json": {
              "type": "dataframe",
              "variable_name": "df",
              "summary": "{\n  \"name\": \"df\",\n  \"rows\": 23921,\n  \"fields\": [\n    {\n      \"column\": \"home_team_fifa_rank\",\n      \"properties\": {\n        \"dtype\": \"number\",\n        \"std\": 52,\n        \"min\": 1,\n        \"max\": 211,\n        \"num_unique_values\": 211,\n        \"samples\": [\n          33,\n          182,\n          88\n        ],\n        \"semantic_type\": \"\",\n        \"description\": \"\"\n      }\n    },\n    {\n      \"column\": \"away_team_fifa_rank\",\n      \"properties\": {\n        \"dtype\": \"number\",\n        \"std\": 53,\n        \"min\": 1,\n        \"max\": 211,\n        \"num_unique_values\": 211,\n        \"samples\": [\n          74,\n          178,\n          68\n        ],\n        \"semantic_type\": \"\",\n        \"description\": \"\"\n      }\n    },\n    {\n      \"column\": \"home_team_total_fifa_points\",\n      \"properties\": {\n        \"dtype\": \"number\",\n        \"std\": 500,\n        \"min\": 0,\n        \"max\": 2164,\n        \"num_unique_values\": 1686,\n        \"samples\": [\n          456,\n          1661,\n          834\n        ],\n        \"semantic_type\": \"\",\n        \"description\": \"\"\n      }\n    },\n    {\n      \"column\": \"away_team_total_fifa_points\",\n      \"properties\": {\n        \"dtype\": \"number\",\n        \"std\": 490,\n        \"min\": 0,\n        \"max\": 2164,\n        \"num_unique_values\": 1679,\n        \"samples\": [\n          1097,\n          422,\n          398\n        ],\n        \"semantic_type\": \"\",\n        \"description\": \"\"\n      }\n    },\n    {\n      \"column\": \"home_team_score\",\n      \"properties\": {\n        \"dtype\": \"number\",\n        \"std\": 1,\n        \"min\": 0,\n        \"max\": 31,\n        \"num_unique_values\": 21,\n        \"samples\": [\n          3,\n          17,\n          11\n        ],\n        \"semantic_type\": \"\",\n        \"description\": \"\"\n      }\n    },\n    {\n      \"column\": \"away_team_score\",\n      \"properties\": {\n        \"dtype\": \"number\",\n        \"std\": 1,\n        \"min\": 0,\n        \"max\": 21,\n        \"num_unique_values\": 18,\n        \"samples\": [\n          1,\n          0,\n          9\n        ],\n        \"semantic_type\": \"\",\n        \"description\": \"\"\n      }\n    },\n    {\n      \"column\": \"neutral_location\",\n      \"properties\": {\n        \"dtype\": \"number\",\n        \"std\": 0,\n        \"min\": 0,\n        \"max\": 1,\n        \"num_unique_values\": 2,\n        \"samples\": [\n          1,\n          0\n        ],\n        \"semantic_type\": \"\",\n        \"description\": \"\"\n      }\n    },\n    {\n      \"column\": \"home_team_result\",\n      \"properties\": {\n        \"dtype\": \"number\",\n        \"std\": 0,\n        \"min\": 0,\n        \"max\": 2,\n        \"num_unique_values\": 3,\n        \"samples\": [\n          0,\n          1\n        ],\n        \"semantic_type\": \"\",\n        \"description\": \"\"\n      }\n    }\n  ]\n}"
            }
          },
          "metadata": {},
          "execution_count": 121
        }
      ]
    },
    {
      "cell_type": "markdown",
      "source": [
        "# Implementing A Model On The Dataset"
      ],
      "metadata": {
        "id": "QReB7p0QSqmk"
      }
    },
    {
      "cell_type": "code",
      "source": [
        "# Split the dataset into train, test and validation\n",
        "train, valid, test = np.split(df,[int(0.65*len(df)),int(0.85*len(df))])  # 65% = Train Set - 20% = Validation Set - 15% = Test Set"
      ],
      "metadata": {
        "id": "AD5uZD1gSvlV"
      },
      "execution_count": null,
      "outputs": []
    },
    {
      "cell_type": "code",
      "source": [
        "def scale_df(dataframe):\n",
        "  X = dataframe[dataframe.columns[:-1]].values\n",
        "  Y = dataframe[dataframe.columns[-1]].values\n",
        "\n",
        "  scaler = StandardScaler()\n",
        "\n",
        "  X_scaled = scaler.fit_transform(X)\n",
        "\n",
        "  ros = RandomOverSampler()\n",
        "  X_scaled_sampled, Y_sampled = ros.fit_resample(X_scaled,Y)\n",
        "\n",
        "  data = np.hstack((X_scaled,np.reshape(Y,(-1,1))))\n",
        "\n",
        "  return data, X_scaled_sampled, Y_sampled"
      ],
      "metadata": {
        "id": "NP9i2Pf6T_MA"
      },
      "execution_count": null,
      "outputs": []
    },
    {
      "cell_type": "code",
      "source": [
        "data, X,Y = scale_df(df)\n",
        "train, X_train, Y_train = scale_df(train)\n",
        "test, X_test, Y_test = scale_df(test)\n",
        "valid, X_valid, Y_valid = scale_df(valid)"
      ],
      "metadata": {
        "id": "WEJWmiQLUCyE"
      },
      "execution_count": null,
      "outputs": []
    },
    {
      "cell_type": "code",
      "source": [
        "# Accuracy Finder\n",
        "def compute_accuracy(Y_true, Y_pred):\n",
        "    correctly_predicted = 0\n",
        "    # iterating over every label and checking it with the true sample\n",
        "    for true_label, predicted in zip(Y_true, Y_pred):\n",
        "        if true_label == predicted:\n",
        "            correctly_predicted += 1\n",
        "    # computing the accuracy score\n",
        "    accuracy_score = correctly_predicted / len(Y_true)\n",
        "    return accuracy_score\n",
        "\n",
        "#Accuracy Dictionary of All Models\n",
        "accuracy = {}"
      ],
      "metadata": {
        "id": "Cn6WKyboUFQn"
      },
      "execution_count": null,
      "outputs": []
    },
    {
      "cell_type": "code",
      "source": [
        "Y_train"
      ],
      "metadata": {
        "colab": {
          "base_uri": "https://localhost:8080/"
        },
        "id": "Pgck-IgPXdn3",
        "outputId": "86e40669-ebe7-4d55-d120-a3409564e049"
      },
      "execution_count": null,
      "outputs": [
        {
          "output_type": "execute_result",
          "data": {
            "text/plain": [
              "array([0, 1, 0, ..., 2, 2, 2])"
            ]
          },
          "metadata": {},
          "execution_count": 64
        }
      ]
    },
    {
      "cell_type": "markdown",
      "source": [
        "## Tensorflow"
      ],
      "metadata": {
        "id": "wReh9uQrWulp"
      }
    },
    {
      "cell_type": "code",
      "source": [
        "import tensorflow.keras as tf\n",
        "\n",
        "model = tf.Sequential([\n",
        "    tf.layers.Dense(10, activation='relu', input_shape=(7,)),\n",
        "    tf.layers.BatchNormalization(),\n",
        "    tf.layers.Dropout(0.2),\n",
        "    tf.layers.Dense(128, activation='relu'),\n",
        "    tf.layers.BatchNormalization(),\n",
        "    tf.layers.Dropout(0.2),\n",
        "    tf.layers.Dense(64, activation='relu'),\n",
        "    tf.layers.BatchNormalization(),\n",
        "    tf.layers.Dropout(0.2),\n",
        "    tf.layers.Dense(16, activation='relu'),\n",
        "    tf.layers.BatchNormalization(),\n",
        "    tf.layers.Dropout(0.2),\n",
        "    tf.layers.Dense(3, activation='softmax')  # Output layer with 3 units for 3 classes\n",
        "])\n",
        "\n",
        "model.compile(optimizer=tf.optimizers.Adam(0.001),\n",
        "              loss='sparse_categorical_crossentropy',  # Change the loss function\n",
        "              metrics=['accuracy'])\n",
        "\n",
        "history = model.fit(X_train, Y_train, epochs=10, batch_size=32, validation_data=(X_valid, Y_valid), verbose=1)\n"
      ],
      "metadata": {
        "colab": {
          "base_uri": "https://localhost:8080/"
        },
        "id": "95x_8HMUUHkG",
        "outputId": "24d8c629-c022-4293-eaea-a0e4fa9d6082"
      },
      "execution_count": null,
      "outputs": [
        {
          "output_type": "stream",
          "name": "stdout",
          "text": [
            "Epoch 1/10\n",
            "722/722 [==============================] - 6s 4ms/step - loss: 0.5470 - accuracy: 0.7650 - val_loss: 0.1358 - val_accuracy: 0.9606\n",
            "Epoch 2/10\n",
            "722/722 [==============================] - 3s 4ms/step - loss: 0.2190 - accuracy: 0.9257 - val_loss: 0.0728 - val_accuracy: 0.9879\n",
            "Epoch 3/10\n",
            "722/722 [==============================] - 3s 4ms/step - loss: 0.1558 - accuracy: 0.9546 - val_loss: 0.0720 - val_accuracy: 0.9869\n",
            "Epoch 4/10\n",
            "722/722 [==============================] - 3s 4ms/step - loss: 0.1211 - accuracy: 0.9692 - val_loss: 0.0763 - val_accuracy: 0.9849\n",
            "Epoch 5/10\n",
            "722/722 [==============================] - 3s 4ms/step - loss: 0.1086 - accuracy: 0.9746 - val_loss: 0.0726 - val_accuracy: 0.9863\n",
            "Epoch 6/10\n",
            "722/722 [==============================] - 3s 4ms/step - loss: 0.1059 - accuracy: 0.9754 - val_loss: 0.0832 - val_accuracy: 0.9812\n",
            "Epoch 7/10\n",
            "722/722 [==============================] - 3s 4ms/step - loss: 0.0993 - accuracy: 0.9791 - val_loss: 0.0789 - val_accuracy: 0.9812\n",
            "Epoch 8/10\n",
            "722/722 [==============================] - 4s 5ms/step - loss: 0.0923 - accuracy: 0.9790 - val_loss: 0.0859 - val_accuracy: 0.9758\n",
            "Epoch 9/10\n",
            "722/722 [==============================] - 3s 4ms/step - loss: 0.0903 - accuracy: 0.9808 - val_loss: 0.0802 - val_accuracy: 0.9827\n",
            "Epoch 10/10\n",
            "722/722 [==============================] - 3s 4ms/step - loss: 0.0866 - accuracy: 0.9818 - val_loss: 0.0614 - val_accuracy: 0.9885\n"
          ]
        }
      ]
    },
    {
      "cell_type": "code",
      "source": [
        "Y_pred_nn = np.round(model.predict(X_test))\n",
        "Y_pred_nn"
      ],
      "metadata": {
        "colab": {
          "base_uri": "https://localhost:8080/"
        },
        "id": "YUyVbga4XQrp",
        "outputId": "27ab5a80-eb62-4d17-a68b-e680cd0942bf"
      },
      "execution_count": null,
      "outputs": [
        {
          "output_type": "stream",
          "name": "stdout",
          "text": [
            "165/165 [==============================] - 0s 2ms/step\n"
          ]
        },
        {
          "output_type": "execute_result",
          "data": {
            "text/plain": [
              "array([[1., 0., 0.],\n",
              "       [1., 0., 0.],\n",
              "       [1., 0., 0.],\n",
              "       ...,\n",
              "       [0., 0., 1.],\n",
              "       [0., 0., 1.],\n",
              "       [0., 0., 1.]], dtype=float32)"
            ]
          },
          "metadata": {},
          "execution_count": 128
        }
      ]
    },
    {
      "cell_type": "code",
      "source": [
        "from sklearn.metrics import confusion_matrix\n",
        "import matplotlib.pyplot as plt\n",
        "import seaborn as sns\n",
        "\n",
        "# np.argmax returns the index (class label) with the highest probability for each sample\n",
        "Y_pred_classes = np.argmax(Y_pred_nn, axis=1)\n",
        "\n",
        "# Compute confusion matrix\n",
        "cm = confusion_matrix(Y_test, Y_pred_classes)\n",
        "\n",
        "# Plot confusion matrix\n",
        "plt.figure(figsize=(8, 6))\n",
        "sns.heatmap(cm, annot=True, cmap='Blues', fmt='g', xticklabels=['0', '1', '2'], yticklabels=['0', '1', '2'])\n",
        "plt.xlabel('Predicted')\n",
        "plt.ylabel('Actual')\n",
        "plt.title('Confusion Matrix')\n",
        "plt.show()"
      ],
      "metadata": {
        "colab": {
          "base_uri": "https://localhost:8080/",
          "height": 564
        },
        "id": "n9KqvIsZalbI",
        "outputId": "0431042d-162d-4d5a-d6ca-50b4da766373"
      },
      "execution_count": null,
      "outputs": [
        {
          "output_type": "display_data",
          "data": {
            "text/plain": [
              "<Figure size 800x600 with 2 Axes>"
            ],
            "image/png": "[encoded data removed]"
          },
          "metadata": {}
        }
      ]
    },
    {
      "cell_type": "code",
      "source": [
        "from sklearn.metrics import classification_report\n",
        "report = classification_report(Y_test, Y_pred_classes)\n",
        "print(report)"
      ],
      "metadata": {
        "colab": {
          "base_uri": "https://localhost:8080/"
        },
        "id": "uQtey3Vie8M3",
        "outputId": "4eefc8eb-9ac4-427f-9f0f-c3a9d65e00d4"
      },
      "execution_count": null,
      "outputs": [
        {
          "output_type": "stream",
          "name": "stdout",
          "text": [
            "              precision    recall  f1-score   support\n",
            "\n",
            "           0       1.00      0.98      0.99       774\n",
            "           1       0.96      1.00      0.98       774\n",
            "           2       1.00      0.98      0.99       774\n",
            "\n",
            "    accuracy                           0.99      2322\n",
            "   macro avg       0.99      0.99      0.99      2322\n",
            "weighted avg       0.99      0.99      0.99      2322\n",
            "\n"
          ]
        }
      ]
    }
  ]
}